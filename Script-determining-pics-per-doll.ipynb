{
 "cells": [
  {
   "cell_type": "code",
   "execution_count": 1,
   "metadata": {},
   "outputs": [],
   "source": [
    "import pandas as pd\n",
    "import numpy as np\n",
    "\n",
    "import matplotlib.pyplot as plt\n",
    "import seaborn as sns\n",
    "\n",
    "import re #for regex splitting\n",
    "from itertools import islice #for slicing a dictionary\n",
    "\n",
    "from collections import Counter\n",
    "from statistics import mean, median, stdev\n",
    "\n",
    "%matplotlib inline"
   ]
  },
  {
   "cell_type": "code",
   "execution_count": 2,
   "metadata": {},
   "outputs": [],
   "source": [
    "# Reading the data\n",
    "\n",
    "low_price = pd.read_csv('doll_images/class_1_fNames.csv')\n",
    "mid_price = pd.read_csv('doll_images/class_2_fNames.csv')\n",
    "high_price = pd.read_csv('doll_images/class_3_fNames.csv')"
   ]
  },
  {
   "cell_type": "code",
   "execution_count": 3,
   "metadata": {},
   "outputs": [
    {
     "data": {
      "text/html": [
       "<div>\n",
       "<style scoped>\n",
       "    .dataframe tbody tr th:only-of-type {\n",
       "        vertical-align: middle;\n",
       "    }\n",
       "\n",
       "    .dataframe tbody tr th {\n",
       "        vertical-align: top;\n",
       "    }\n",
       "\n",
       "    .dataframe thead th {\n",
       "        text-align: right;\n",
       "    }\n",
       "</style>\n",
       "<table border=\"1\" class=\"dataframe\">\n",
       "  <thead>\n",
       "    <tr style=\"text-align: right;\">\n",
       "      <th></th>\n",
       "      <th>name</th>\n",
       "      <th>label</th>\n",
       "    </tr>\n",
       "  </thead>\n",
       "  <tbody>\n",
       "    <tr>\n",
       "      <th>0</th>\n",
       "      <td>168876b_lg.jpeg</td>\n",
       "      <td>1</td>\n",
       "    </tr>\n",
       "    <tr>\n",
       "      <th>1</th>\n",
       "      <td>117312a_lg.jpeg</td>\n",
       "      <td>1</td>\n",
       "    </tr>\n",
       "    <tr>\n",
       "      <th>2</th>\n",
       "      <td>151810d_lg.jpeg</td>\n",
       "      <td>1</td>\n",
       "    </tr>\n",
       "    <tr>\n",
       "      <th>3</th>\n",
       "      <td>31590a_lg.jpeg</td>\n",
       "      <td>1</td>\n",
       "    </tr>\n",
       "    <tr>\n",
       "      <th>4</th>\n",
       "      <td>144341c_lg.jpeg</td>\n",
       "      <td>1</td>\n",
       "    </tr>\n",
       "  </tbody>\n",
       "</table>\n",
       "</div>"
      ],
      "text/plain": [
       "              name  label\n",
       "0  168876b_lg.jpeg      1\n",
       "1  117312a_lg.jpeg      1\n",
       "2  151810d_lg.jpeg      1\n",
       "3   31590a_lg.jpeg      1\n",
       "4  144341c_lg.jpeg      1"
      ]
     },
     "execution_count": 3,
     "metadata": {},
     "output_type": "execute_result"
    }
   ],
   "source": [
    "low_price.head()"
   ]
  },
  {
   "cell_type": "code",
   "execution_count": 4,
   "metadata": {},
   "outputs": [
    {
     "data": {
      "text/html": [
       "<div>\n",
       "<style scoped>\n",
       "    .dataframe tbody tr th:only-of-type {\n",
       "        vertical-align: middle;\n",
       "    }\n",
       "\n",
       "    .dataframe tbody tr th {\n",
       "        vertical-align: top;\n",
       "    }\n",
       "\n",
       "    .dataframe thead th {\n",
       "        text-align: right;\n",
       "    }\n",
       "</style>\n",
       "<table border=\"1\" class=\"dataframe\">\n",
       "  <thead>\n",
       "    <tr style=\"text-align: right;\">\n",
       "      <th></th>\n",
       "      <th>name</th>\n",
       "      <th>label</th>\n",
       "    </tr>\n",
       "  </thead>\n",
       "  <tbody>\n",
       "    <tr>\n",
       "      <th>0</th>\n",
       "      <td>16240519_2_lg.jpeg</td>\n",
       "      <td>2</td>\n",
       "    </tr>\n",
       "    <tr>\n",
       "      <th>1</th>\n",
       "      <td>182957a_lg.jpeg</td>\n",
       "      <td>2</td>\n",
       "    </tr>\n",
       "    <tr>\n",
       "      <th>2</th>\n",
       "      <td>168799b_lg.jpeg</td>\n",
       "      <td>2</td>\n",
       "    </tr>\n",
       "    <tr>\n",
       "      <th>3</th>\n",
       "      <td>16240633_3_lg.jpeg</td>\n",
       "      <td>2</td>\n",
       "    </tr>\n",
       "    <tr>\n",
       "      <th>4</th>\n",
       "      <td>175612c_lg.jpeg</td>\n",
       "      <td>2</td>\n",
       "    </tr>\n",
       "  </tbody>\n",
       "</table>\n",
       "</div>"
      ],
      "text/plain": [
       "                 name  label\n",
       "0  16240519_2_lg.jpeg      2\n",
       "1     182957a_lg.jpeg      2\n",
       "2     168799b_lg.jpeg      2\n",
       "3  16240633_3_lg.jpeg      2\n",
       "4     175612c_lg.jpeg      2"
      ]
     },
     "execution_count": 4,
     "metadata": {},
     "output_type": "execute_result"
    }
   ],
   "source": [
    "mid_price.head()"
   ]
  },
  {
   "cell_type": "code",
   "execution_count": 5,
   "metadata": {},
   "outputs": [
    {
     "data": {
      "text/html": [
       "<div>\n",
       "<style scoped>\n",
       "    .dataframe tbody tr th:only-of-type {\n",
       "        vertical-align: middle;\n",
       "    }\n",
       "\n",
       "    .dataframe tbody tr th {\n",
       "        vertical-align: top;\n",
       "    }\n",
       "\n",
       "    .dataframe thead th {\n",
       "        text-align: right;\n",
       "    }\n",
       "</style>\n",
       "<table border=\"1\" class=\"dataframe\">\n",
       "  <thead>\n",
       "    <tr style=\"text-align: right;\">\n",
       "      <th></th>\n",
       "      <th>name</th>\n",
       "      <th>label</th>\n",
       "    </tr>\n",
       "  </thead>\n",
       "  <tbody>\n",
       "    <tr>\n",
       "      <th>0</th>\n",
       "      <td>16240537_2_lg.jpeg</td>\n",
       "      <td>3</td>\n",
       "    </tr>\n",
       "    <tr>\n",
       "      <th>1</th>\n",
       "      <td>16241052_3_lg.jpeg</td>\n",
       "      <td>3</td>\n",
       "    </tr>\n",
       "    <tr>\n",
       "      <th>2</th>\n",
       "      <td>16241062_2_lg.jpeg</td>\n",
       "      <td>3</td>\n",
       "    </tr>\n",
       "    <tr>\n",
       "      <th>3</th>\n",
       "      <td>18070792_4_lg.jpeg</td>\n",
       "      <td>3</td>\n",
       "    </tr>\n",
       "    <tr>\n",
       "      <th>4</th>\n",
       "      <td>182702i_lg.jpeg</td>\n",
       "      <td>3</td>\n",
       "    </tr>\n",
       "  </tbody>\n",
       "</table>\n",
       "</div>"
      ],
      "text/plain": [
       "                 name  label\n",
       "0  16240537_2_lg.jpeg      3\n",
       "1  16241052_3_lg.jpeg      3\n",
       "2  16241062_2_lg.jpeg      3\n",
       "3  18070792_4_lg.jpeg      3\n",
       "4     182702i_lg.jpeg      3"
      ]
     },
     "execution_count": 5,
     "metadata": {},
     "output_type": "execute_result"
    }
   ],
   "source": [
    "high_price.head()"
   ]
  },
  {
   "cell_type": "code",
   "execution_count": 6,
   "metadata": {},
   "outputs": [
    {
     "name": "stdout",
     "output_type": "stream",
     "text": [
      "class 1 len: 3385 | class 2 len: 3616 | class 3 len: 2169\n"
     ]
    }
   ],
   "source": [
    "print('class 1 len:',len(low_price),'|', 'class 2 len:',len(mid_price),'|', 'class 3 len:',len(high_price))"
   ]
  },
  {
   "cell_type": "code",
   "execution_count": 7,
   "metadata": {},
   "outputs": [],
   "source": [
    "low_splitted_letter = []\n",
    "low_list = low_price['name']\n",
    "\n",
    "for item in low_list :\n",
    "    low_splitted_letter.append(re.split(r'(?=[a-z])', item)[0])"
   ]
  },
  {
   "cell_type": "code",
   "execution_count": 8,
   "metadata": {},
   "outputs": [],
   "source": [
    "low_final_split = []\n",
    "\n",
    "for item in low_splitted_letter :\n",
    "    low_final_split.append(item.split('_')[0])"
   ]
  },
  {
   "cell_type": "code",
   "execution_count": 9,
   "metadata": {},
   "outputs": [
    {
     "data": {
      "text/plain": [
       "['168876',\n",
       " '117312',\n",
       " '151810',\n",
       " '31590',\n",
       " '144341',\n",
       " '224876',\n",
       " '116404',\n",
       " '106649',\n",
       " '16240254',\n",
       " '82762']"
      ]
     },
     "execution_count": 9,
     "metadata": {},
     "output_type": "execute_result"
    }
   ],
   "source": [
    "low_final_split[:10]"
   ]
  },
  {
   "cell_type": "code",
   "execution_count": 10,
   "metadata": {},
   "outputs": [],
   "source": [
    "mid_splitted_letter = []\n",
    "mid_list = mid_price['name']\n",
    "\n",
    "for item in mid_list :\n",
    "    mid_splitted_letter.append(re.split(r'(?=[a-z])', item)[0])"
   ]
  },
  {
   "cell_type": "code",
   "execution_count": 11,
   "metadata": {},
   "outputs": [
    {
     "data": {
      "text/plain": [
       "['16240519_2_',\n",
       " '182957',\n",
       " '168799',\n",
       " '16240633_3_',\n",
       " '175612',\n",
       " '168778',\n",
       " '26247',\n",
       " '88450',\n",
       " '16320586_1_',\n",
       " '201735']"
      ]
     },
     "execution_count": 11,
     "metadata": {},
     "output_type": "execute_result"
    }
   ],
   "source": [
    "mid_splitted_letter[:10]"
   ]
  },
  {
   "cell_type": "code",
   "execution_count": 12,
   "metadata": {},
   "outputs": [],
   "source": [
    "mid_final_split = []\n",
    "\n",
    "for item in mid_splitted_letter :\n",
    "    mid_final_split.append(item.split('_')[0])"
   ]
  },
  {
   "cell_type": "code",
   "execution_count": 13,
   "metadata": {},
   "outputs": [
    {
     "data": {
      "text/plain": [
       "['16240519',\n",
       " '182957',\n",
       " '168799',\n",
       " '16240633',\n",
       " '175612',\n",
       " '168778',\n",
       " '26247',\n",
       " '88450',\n",
       " '16320586',\n",
       " '201735']"
      ]
     },
     "execution_count": 13,
     "metadata": {},
     "output_type": "execute_result"
    }
   ],
   "source": [
    "mid_final_split[:10]"
   ]
  },
  {
   "cell_type": "code",
   "execution_count": 14,
   "metadata": {},
   "outputs": [],
   "source": [
    "high_splitted_letter = []\n",
    "high_list = high_price['name']\n",
    "\n",
    "for item in high_list :\n",
    "    high_splitted_letter.append(re.split(r'(?=[a-z])', item)[0])"
   ]
  },
  {
   "cell_type": "code",
   "execution_count": 15,
   "metadata": {},
   "outputs": [
    {
     "data": {
      "text/plain": [
       "['16240537_2_',\n",
       " '16241052_3_',\n",
       " '16241062_2_',\n",
       " '18070792_4_',\n",
       " '182702',\n",
       " '26138',\n",
       " '168781',\n",
       " '175173',\n",
       " '228846',\n",
       " '204880']"
      ]
     },
     "execution_count": 15,
     "metadata": {},
     "output_type": "execute_result"
    }
   ],
   "source": [
    "high_splitted_letter[:10]"
   ]
  },
  {
   "cell_type": "code",
   "execution_count": 16,
   "metadata": {},
   "outputs": [],
   "source": [
    "high_final_split = []\n",
    "\n",
    "for item in high_splitted_letter :\n",
    "    high_final_split.append(item.split('_')[0])"
   ]
  },
  {
   "cell_type": "code",
   "execution_count": 17,
   "metadata": {},
   "outputs": [
    {
     "data": {
      "text/plain": [
       "['16240537',\n",
       " '16241052',\n",
       " '16241062',\n",
       " '18070792',\n",
       " '182702',\n",
       " '26138',\n",
       " '168781',\n",
       " '175173',\n",
       " '228846',\n",
       " '204880']"
      ]
     },
     "execution_count": 17,
     "metadata": {},
     "output_type": "execute_result"
    }
   ],
   "source": [
    "high_final_split[:10]"
   ]
  },
  {
   "cell_type": "code",
   "execution_count": 22,
   "metadata": {},
   "outputs": [
    {
     "data": {
      "text/plain": [
       "[('168876', 3),\n",
       " ('117312', 1),\n",
       " ('151810', 4),\n",
       " ('31590', 1),\n",
       " ('144341', 3),\n",
       " ('224876', 1),\n",
       " ('116404', 2),\n",
       " ('106649', 1),\n",
       " ('16240254', 3),\n",
       " ('82762', 3)]"
      ]
     },
     "execution_count": 22,
     "metadata": {},
     "output_type": "execute_result"
    }
   ],
   "source": [
    "low_counter = Counter(low_final_split)\n",
    "\n",
    "list(islice(low_counter.items(),10)) #get 10 key/value pair from Counter dict"
   ]
  },
  {
   "cell_type": "code",
   "execution_count": 23,
   "metadata": {},
   "outputs": [
    {
     "name": "stdout",
     "output_type": "stream",
     "text": [
      "Mean 1.6799007444168734\n",
      "Median 1\n",
      "St Dev 1.0523855673647649\n",
      "Max 10\n"
     ]
    }
   ],
   "source": [
    "print('Mean', mean(low_counter.values()))\n",
    "print('Median', median(low_counter.values()))\n",
    "print('St Dev', stdev(low_counter.values()))\n",
    "print('Max', max(low_counter.values()))"
   ]
  },
  {
   "cell_type": "code",
   "execution_count": 24,
   "metadata": {},
   "outputs": [
    {
     "data": {
      "text/plain": [
       "['16240537',\n",
       " '16241052',\n",
       " '16241062',\n",
       " '18070792',\n",
       " '182702',\n",
       " '26138',\n",
       " '168781',\n",
       " '175173',\n",
       " '228846',\n",
       " '204880']"
      ]
     },
     "execution_count": 24,
     "metadata": {},
     "output_type": "execute_result"
    }
   ],
   "source": [
    "high_final_split[:10]"
   ]
  },
  {
   "cell_type": "code",
   "execution_count": 25,
   "metadata": {},
   "outputs": [
    {
     "ename": "TypeError",
     "evalue": "unhashable type: 'slice'",
     "output_type": "error",
     "traceback": [
      "\u001b[0;31m---------------------------------------------------------------------------\u001b[0m",
      "\u001b[0;31mTypeError\u001b[0m                                 Traceback (most recent call last)",
      "\u001b[0;32m<ipython-input-25-7fb43ea09731>\u001b[0m in \u001b[0;36m<module>\u001b[0;34m\u001b[0m\n\u001b[1;32m      1\u001b[0m \u001b[0mmid_counter\u001b[0m \u001b[0;34m=\u001b[0m \u001b[0mCounter\u001b[0m\u001b[0;34m(\u001b[0m\u001b[0mmid_final_split\u001b[0m\u001b[0;34m)\u001b[0m\u001b[0;34m\u001b[0m\u001b[0;34m\u001b[0m\u001b[0m\n\u001b[0;32m----> 2\u001b[0;31m \u001b[0mmid_counter\u001b[0m\u001b[0;34m[\u001b[0m\u001b[0;34m:\u001b[0m\u001b[0;36m10\u001b[0m\u001b[0;34m]\u001b[0m\u001b[0;34m\u001b[0m\u001b[0;34m\u001b[0m\u001b[0m\n\u001b[0m",
      "\u001b[0;31mTypeError\u001b[0m: unhashable type: 'slice'"
     ]
    }
   ],
   "source": [
    "mid_counter = Counter(mid_final_split)\n",
    "list(islice(mid_counter.items(),10))"
   ]
  },
  {
   "cell_type": "code",
   "execution_count": null,
   "metadata": {},
   "outputs": [],
   "source": [
    "print('Mean', mean(mid_counter.values()))\n",
    "print('Median', median(mid_counter.values()))\n",
    "print('St Dev', stdev(mid_counter.values()))\n",
    "print('Max', max(mid_counter.values()))"
   ]
  },
  {
   "cell_type": "code",
   "execution_count": null,
   "metadata": {},
   "outputs": [],
   "source": [
    "high_counter = Counter(high_final_split)\n",
    "high_counter[:10]"
   ]
  },
  {
   "cell_type": "code",
   "execution_count": null,
   "metadata": {},
   "outputs": [],
   "source": [
    "print('Mean', mean(high_counter.values()))\n",
    "print('Median', median(high_counter.values()))\n",
    "print('St Dev', stdev(high_counter.values()))\n",
    "print('Max', max(high_counter.values()))"
   ]
  },
  {
   "cell_type": "code",
   "execution_count": null,
   "metadata": {},
   "outputs": [],
   "source": [
    "lowValues = []\n",
    "midValues = []\n",
    "highValues = []\n",
    "\n",
    "for value in low_counter.values():\n",
    "    lowValues.append(value)\n",
    "\n",
    "for value in mid_counter.values():\n",
    "    midValues.append(value)\n",
    "\n",
    "for value in high_counter.values():\n",
    "    highValues.append(value)"
   ]
  },
  {
   "cell_type": "code",
   "execution_count": null,
   "metadata": {},
   "outputs": [],
   "source": [
    "plt.figure(figsize=(8,10))\n",
    "plt.boxplot(x=[lowValues, midValues, highValues], labels=['<$250', '$250-to-$1,000', '>$1,000'])\n",
    "\n",
    "plt.title('Pictures per Doll\\nfor Each Class', fontsize=26)\n",
    "\n",
    "plt.xlabel('Class', fontsize=20)\n",
    "plt.ylabel('Number of Pictures per Doll', fontsize=20)\n",
    "\n",
    "plt.xticks(fontsize=16, rotation=45, ha='right')\n",
    "plt.yticks(fontsize=16)\n",
    "\n",
    "plt.ylim(0,21)"
   ]
  }
 ],
 "metadata": {
  "kernelspec": {
   "display_name": "Python 3",
   "language": "python",
   "name": "python3"
  },
  "language_info": {
   "codemirror_mode": {
    "name": "ipython",
    "version": 3
   },
   "file_extension": ".py",
   "mimetype": "text/x-python",
   "name": "python",
   "nbconvert_exporter": "python",
   "pygments_lexer": "ipython3",
   "version": "3.7.1"
  }
 },
 "nbformat": 4,
 "nbformat_minor": 2
}
